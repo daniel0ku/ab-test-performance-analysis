{
 "cells": [
  {
   "cell_type": "markdown",
   "id": "d5fad498",
   "metadata": {},
   "source": [
    "# Fast Food Marketing Campaign A\\B Test"
   ]
  },
  {
   "cell_type": "markdown",
   "id": "ee94d022",
   "metadata": {},
   "source": [
    "## About Dataset from the Author"
   ]
  },
  {
   "cell_type": "markdown",
   "id": "c657deba",
   "metadata": {},
   "source": [
    "A fast-food chain plans to add a new item to its menu. However, they are still undecided between three possible marketing campaigns for promoting the new product. In order to determine which promotion has the greatest effect on sales, the new item is introduced at locations in several randomly selected markets. A different promotion is used at each location, and the weekly sales of the new item are recorded for the first four weeks."
   ]
  },
  {
   "cell_type": "markdown",
   "id": "f2ef8555",
   "metadata": {},
   "source": [
    "## Goal"
   ]
  },
  {
   "cell_type": "markdown",
   "id": "43a706b1",
   "metadata": {},
   "source": [
    "Evaluate A/B testing results and decide which marketing strategy works the best."
   ]
  },
  {
   "cell_type": "markdown",
   "id": "68e832e6",
   "metadata": {},
   "source": [
    "## Target Metric"
   ]
  },
  {
   "cell_type": "markdown",
   "id": "5f52647a",
   "metadata": {},
   "source": [
    "The target metric for this A/B test is the weekly sales of the new item, measured in thousands of dollars (SalesInThousands). This metric directly indicates the financial performance of each promotion and will help determine which marketing campaign leads to the highest increase in sales.\n"
   ]
  },
  {
   "cell_type": "markdown",
   "id": "4246cebc",
   "metadata": {},
   "source": [
    "## Notebook Preparation"
   ]
  },
  {
   "cell_type": "code",
   "id": "15ab3a0c",
   "metadata": {
    "ExecuteTime": {
     "end_time": "2024-06-21T22:23:33.762131Z",
     "start_time": "2024-06-21T22:23:33.759083Z"
    }
   },
   "source": [
    "import pandas as pd\n",
    "import numpy as np\n",
    "from scipy import stats\n",
    "import matplotlib.pyplot as plt\n",
    "import seaborn as sns"
   ],
   "outputs": [],
   "execution_count": 25
  },
  {
   "cell_type": "code",
   "id": "be276758",
   "metadata": {
    "ExecuteTime": {
     "end_time": "2024-06-21T22:23:33.997571Z",
     "start_time": "2024-06-21T22:23:33.985008Z"
    }
   },
   "source": [
    "df = pd.read_csv('Data/WA_Marketing-Campaign.csv')\n",
    "df.head()"
   ],
   "outputs": [
    {
     "data": {
      "text/plain": [
       "   MarketID MarketSize  LocationID  AgeOfStore  Promotion  week  \\\n",
       "0         1     Medium           1           4          3     1   \n",
       "1         1     Medium           1           4          3     2   \n",
       "2         1     Medium           1           4          3     3   \n",
       "3         1     Medium           1           4          3     4   \n",
       "4         1     Medium           2           5          2     1   \n",
       "\n",
       "   SalesInThousands  \n",
       "0             33.73  \n",
       "1             35.67  \n",
       "2             29.03  \n",
       "3             39.25  \n",
       "4             27.81  "
      ],
      "text/html": [
       "<div>\n",
       "<style scoped>\n",
       "    .dataframe tbody tr th:only-of-type {\n",
       "        vertical-align: middle;\n",
       "    }\n",
       "\n",
       "    .dataframe tbody tr th {\n",
       "        vertical-align: top;\n",
       "    }\n",
       "\n",
       "    .dataframe thead th {\n",
       "        text-align: right;\n",
       "    }\n",
       "</style>\n",
       "<table border=\"1\" class=\"dataframe\">\n",
       "  <thead>\n",
       "    <tr style=\"text-align: right;\">\n",
       "      <th></th>\n",
       "      <th>MarketID</th>\n",
       "      <th>MarketSize</th>\n",
       "      <th>LocationID</th>\n",
       "      <th>AgeOfStore</th>\n",
       "      <th>Promotion</th>\n",
       "      <th>week</th>\n",
       "      <th>SalesInThousands</th>\n",
       "    </tr>\n",
       "  </thead>\n",
       "  <tbody>\n",
       "    <tr>\n",
       "      <th>0</th>\n",
       "      <td>1</td>\n",
       "      <td>Medium</td>\n",
       "      <td>1</td>\n",
       "      <td>4</td>\n",
       "      <td>3</td>\n",
       "      <td>1</td>\n",
       "      <td>33.73</td>\n",
       "    </tr>\n",
       "    <tr>\n",
       "      <th>1</th>\n",
       "      <td>1</td>\n",
       "      <td>Medium</td>\n",
       "      <td>1</td>\n",
       "      <td>4</td>\n",
       "      <td>3</td>\n",
       "      <td>2</td>\n",
       "      <td>35.67</td>\n",
       "    </tr>\n",
       "    <tr>\n",
       "      <th>2</th>\n",
       "      <td>1</td>\n",
       "      <td>Medium</td>\n",
       "      <td>1</td>\n",
       "      <td>4</td>\n",
       "      <td>3</td>\n",
       "      <td>3</td>\n",
       "      <td>29.03</td>\n",
       "    </tr>\n",
       "    <tr>\n",
       "      <th>3</th>\n",
       "      <td>1</td>\n",
       "      <td>Medium</td>\n",
       "      <td>1</td>\n",
       "      <td>4</td>\n",
       "      <td>3</td>\n",
       "      <td>4</td>\n",
       "      <td>39.25</td>\n",
       "    </tr>\n",
       "    <tr>\n",
       "      <th>4</th>\n",
       "      <td>1</td>\n",
       "      <td>Medium</td>\n",
       "      <td>2</td>\n",
       "      <td>5</td>\n",
       "      <td>2</td>\n",
       "      <td>1</td>\n",
       "      <td>27.81</td>\n",
       "    </tr>\n",
       "  </tbody>\n",
       "</table>\n",
       "</div>"
      ]
     },
     "execution_count": 26,
     "metadata": {},
     "output_type": "execute_result"
    }
   ],
   "execution_count": 26
  },
  {
   "cell_type": "code",
   "id": "39ea19d0",
   "metadata": {
    "ExecuteTime": {
     "end_time": "2024-06-21T22:23:34.021004Z",
     "start_time": "2024-06-21T22:23:34.013585Z"
    }
   },
   "source": [
    "# Data Summary\n",
    "df.info()"
   ],
   "outputs": [
    {
     "name": "stdout",
     "output_type": "stream",
     "text": [
      "<class 'pandas.core.frame.DataFrame'>\n",
      "RangeIndex: 548 entries, 0 to 547\n",
      "Data columns (total 7 columns):\n",
      " #   Column            Non-Null Count  Dtype  \n",
      "---  ------            --------------  -----  \n",
      " 0   MarketID          548 non-null    int64  \n",
      " 1   MarketSize        548 non-null    object \n",
      " 2   LocationID        548 non-null    int64  \n",
      " 3   AgeOfStore        548 non-null    int64  \n",
      " 4   Promotion         548 non-null    int64  \n",
      " 5   week              548 non-null    int64  \n",
      " 6   SalesInThousands  548 non-null    float64\n",
      "dtypes: float64(1), int64(5), object(1)\n",
      "memory usage: 30.1+ KB\n"
     ]
    }
   ],
   "execution_count": 27
  },
  {
   "cell_type": "code",
   "id": "e63ab999",
   "metadata": {
    "scrolled": true,
    "ExecuteTime": {
     "end_time": "2024-06-21T22:23:34.066190Z",
     "start_time": "2024-06-21T22:23:34.054787Z"
    }
   },
   "source": [
    "# Clean up a couple of poorly names columns\n",
    "df.columns = [x.lower().strip() for x in df.columns]\n",
    "df = df.map(lambda x: x.title() if isinstance(x, str) else x)\n",
    "df.head(5)"
   ],
   "outputs": [
    {
     "data": {
      "text/plain": [
       "   marketid marketsize  locationid  ageofstore  promotion  week  \\\n",
       "0         1     Medium           1           4          3     1   \n",
       "1         1     Medium           1           4          3     2   \n",
       "2         1     Medium           1           4          3     3   \n",
       "3         1     Medium           1           4          3     4   \n",
       "4         1     Medium           2           5          2     1   \n",
       "\n",
       "   salesinthousands  \n",
       "0             33.73  \n",
       "1             35.67  \n",
       "2             29.03  \n",
       "3             39.25  \n",
       "4             27.81  "
      ],
      "text/html": [
       "<div>\n",
       "<style scoped>\n",
       "    .dataframe tbody tr th:only-of-type {\n",
       "        vertical-align: middle;\n",
       "    }\n",
       "\n",
       "    .dataframe tbody tr th {\n",
       "        vertical-align: top;\n",
       "    }\n",
       "\n",
       "    .dataframe thead th {\n",
       "        text-align: right;\n",
       "    }\n",
       "</style>\n",
       "<table border=\"1\" class=\"dataframe\">\n",
       "  <thead>\n",
       "    <tr style=\"text-align: right;\">\n",
       "      <th></th>\n",
       "      <th>marketid</th>\n",
       "      <th>marketsize</th>\n",
       "      <th>locationid</th>\n",
       "      <th>ageofstore</th>\n",
       "      <th>promotion</th>\n",
       "      <th>week</th>\n",
       "      <th>salesinthousands</th>\n",
       "    </tr>\n",
       "  </thead>\n",
       "  <tbody>\n",
       "    <tr>\n",
       "      <th>0</th>\n",
       "      <td>1</td>\n",
       "      <td>Medium</td>\n",
       "      <td>1</td>\n",
       "      <td>4</td>\n",
       "      <td>3</td>\n",
       "      <td>1</td>\n",
       "      <td>33.73</td>\n",
       "    </tr>\n",
       "    <tr>\n",
       "      <th>1</th>\n",
       "      <td>1</td>\n",
       "      <td>Medium</td>\n",
       "      <td>1</td>\n",
       "      <td>4</td>\n",
       "      <td>3</td>\n",
       "      <td>2</td>\n",
       "      <td>35.67</td>\n",
       "    </tr>\n",
       "    <tr>\n",
       "      <th>2</th>\n",
       "      <td>1</td>\n",
       "      <td>Medium</td>\n",
       "      <td>1</td>\n",
       "      <td>4</td>\n",
       "      <td>3</td>\n",
       "      <td>3</td>\n",
       "      <td>29.03</td>\n",
       "    </tr>\n",
       "    <tr>\n",
       "      <th>3</th>\n",
       "      <td>1</td>\n",
       "      <td>Medium</td>\n",
       "      <td>1</td>\n",
       "      <td>4</td>\n",
       "      <td>3</td>\n",
       "      <td>4</td>\n",
       "      <td>39.25</td>\n",
       "    </tr>\n",
       "    <tr>\n",
       "      <th>4</th>\n",
       "      <td>1</td>\n",
       "      <td>Medium</td>\n",
       "      <td>2</td>\n",
       "      <td>5</td>\n",
       "      <td>2</td>\n",
       "      <td>1</td>\n",
       "      <td>27.81</td>\n",
       "    </tr>\n",
       "  </tbody>\n",
       "</table>\n",
       "</div>"
      ]
     },
     "execution_count": 28,
     "metadata": {},
     "output_type": "execute_result"
    }
   ],
   "execution_count": 28
  },
  {
   "cell_type": "code",
   "id": "1fd5d412",
   "metadata": {
    "ExecuteTime": {
     "end_time": "2024-06-21T22:23:34.096677Z",
     "start_time": "2024-06-21T22:23:34.093830Z"
    }
   },
   "source": [
    "df['salesinthousands']=df['salesinthousands'].astype(float)"
   ],
   "outputs": [],
   "execution_count": 29
  },
  {
   "cell_type": "code",
   "id": "ff398006",
   "metadata": {
    "ExecuteTime": {
     "end_time": "2024-06-21T22:23:34.261345Z",
     "start_time": "2024-06-21T22:23:34.254080Z"
    }
   },
   "source": [
    "# Check for missing data\n",
    "missing_data = df.isnull().sum()\n",
    "\n",
    "# Check for duplicate data\n",
    "duplicate_data = df.duplicated().sum()\n",
    "\n",
    "missing_data, duplicate_data"
   ],
   "outputs": [
    {
     "data": {
      "text/plain": [
       "(marketid            0\n",
       " marketsize          0\n",
       " locationid          0\n",
       " ageofstore          0\n",
       " promotion           0\n",
       " week                0\n",
       " salesinthousands    0\n",
       " dtype: int64,\n",
       " 0)"
      ]
     },
     "execution_count": 30,
     "metadata": {},
     "output_type": "execute_result"
    }
   ],
   "execution_count": 30
  },
  {
   "cell_type": "code",
   "id": "37081dfc",
   "metadata": {
    "ExecuteTime": {
     "end_time": "2024-06-21T22:23:34.322461Z",
     "start_time": "2024-06-21T22:23:34.302957Z"
    }
   },
   "source": [
    "# Descriptive Statistics\n",
    "df.describe()"
   ],
   "outputs": [
    {
     "data": {
      "text/plain": [
       "         marketid  locationid  ageofstore   promotion        week  \\\n",
       "count  548.000000  548.000000  548.000000  548.000000  548.000000   \n",
       "mean     5.715328  479.656934    8.503650    2.029197    2.500000   \n",
       "std      2.877001  287.973679    6.638345    0.810729    1.119055   \n",
       "min      1.000000    1.000000    1.000000    1.000000    1.000000   \n",
       "25%      3.000000  216.000000    4.000000    1.000000    1.750000   \n",
       "50%      6.000000  504.000000    7.000000    2.000000    2.500000   \n",
       "75%      8.000000  708.000000   12.000000    3.000000    3.250000   \n",
       "max     10.000000  920.000000   28.000000    3.000000    4.000000   \n",
       "\n",
       "       salesinthousands  \n",
       "count        548.000000  \n",
       "mean          53.466204  \n",
       "std           16.755216  \n",
       "min           17.340000  \n",
       "25%           42.545000  \n",
       "50%           50.200000  \n",
       "75%           60.477500  \n",
       "max           99.650000  "
      ],
      "text/html": [
       "<div>\n",
       "<style scoped>\n",
       "    .dataframe tbody tr th:only-of-type {\n",
       "        vertical-align: middle;\n",
       "    }\n",
       "\n",
       "    .dataframe tbody tr th {\n",
       "        vertical-align: top;\n",
       "    }\n",
       "\n",
       "    .dataframe thead th {\n",
       "        text-align: right;\n",
       "    }\n",
       "</style>\n",
       "<table border=\"1\" class=\"dataframe\">\n",
       "  <thead>\n",
       "    <tr style=\"text-align: right;\">\n",
       "      <th></th>\n",
       "      <th>marketid</th>\n",
       "      <th>locationid</th>\n",
       "      <th>ageofstore</th>\n",
       "      <th>promotion</th>\n",
       "      <th>week</th>\n",
       "      <th>salesinthousands</th>\n",
       "    </tr>\n",
       "  </thead>\n",
       "  <tbody>\n",
       "    <tr>\n",
       "      <th>count</th>\n",
       "      <td>548.000000</td>\n",
       "      <td>548.000000</td>\n",
       "      <td>548.000000</td>\n",
       "      <td>548.000000</td>\n",
       "      <td>548.000000</td>\n",
       "      <td>548.000000</td>\n",
       "    </tr>\n",
       "    <tr>\n",
       "      <th>mean</th>\n",
       "      <td>5.715328</td>\n",
       "      <td>479.656934</td>\n",
       "      <td>8.503650</td>\n",
       "      <td>2.029197</td>\n",
       "      <td>2.500000</td>\n",
       "      <td>53.466204</td>\n",
       "    </tr>\n",
       "    <tr>\n",
       "      <th>std</th>\n",
       "      <td>2.877001</td>\n",
       "      <td>287.973679</td>\n",
       "      <td>6.638345</td>\n",
       "      <td>0.810729</td>\n",
       "      <td>1.119055</td>\n",
       "      <td>16.755216</td>\n",
       "    </tr>\n",
       "    <tr>\n",
       "      <th>min</th>\n",
       "      <td>1.000000</td>\n",
       "      <td>1.000000</td>\n",
       "      <td>1.000000</td>\n",
       "      <td>1.000000</td>\n",
       "      <td>1.000000</td>\n",
       "      <td>17.340000</td>\n",
       "    </tr>\n",
       "    <tr>\n",
       "      <th>25%</th>\n",
       "      <td>3.000000</td>\n",
       "      <td>216.000000</td>\n",
       "      <td>4.000000</td>\n",
       "      <td>1.000000</td>\n",
       "      <td>1.750000</td>\n",
       "      <td>42.545000</td>\n",
       "    </tr>\n",
       "    <tr>\n",
       "      <th>50%</th>\n",
       "      <td>6.000000</td>\n",
       "      <td>504.000000</td>\n",
       "      <td>7.000000</td>\n",
       "      <td>2.000000</td>\n",
       "      <td>2.500000</td>\n",
       "      <td>50.200000</td>\n",
       "    </tr>\n",
       "    <tr>\n",
       "      <th>75%</th>\n",
       "      <td>8.000000</td>\n",
       "      <td>708.000000</td>\n",
       "      <td>12.000000</td>\n",
       "      <td>3.000000</td>\n",
       "      <td>3.250000</td>\n",
       "      <td>60.477500</td>\n",
       "    </tr>\n",
       "    <tr>\n",
       "      <th>max</th>\n",
       "      <td>10.000000</td>\n",
       "      <td>920.000000</td>\n",
       "      <td>28.000000</td>\n",
       "      <td>3.000000</td>\n",
       "      <td>4.000000</td>\n",
       "      <td>99.650000</td>\n",
       "    </tr>\n",
       "  </tbody>\n",
       "</table>\n",
       "</div>"
      ]
     },
     "execution_count": 31,
     "metadata": {},
     "output_type": "execute_result"
    }
   ],
   "execution_count": 31
  },
  {
   "cell_type": "markdown",
   "id": "730eed30",
   "metadata": {},
   "source": [
    "### Sample Size And Variant Proportions"
   ]
  },
  {
   "cell_type": "code",
   "id": "89f9d50137a7f75e",
   "metadata": {
    "ExecuteTime": {
     "end_time": "2024-06-21T22:23:34.412718Z",
     "start_time": "2024-06-21T22:23:34.407721Z"
    }
   },
   "source": [
    "sample_size = df['promotion'].value_counts()\n",
    "sample_size"
   ],
   "outputs": [
    {
     "data": {
      "text/plain": [
       "promotion\n",
       "3    188\n",
       "2    188\n",
       "1    172\n",
       "Name: count, dtype: int64"
      ]
     },
     "execution_count": 32,
     "metadata": {},
     "output_type": "execute_result"
    }
   ],
   "execution_count": 32
  },
  {
   "cell_type": "code",
   "id": "5cda86856b523bd6",
   "metadata": {
    "ExecuteTime": {
     "end_time": "2024-06-21T22:23:34.458354Z",
     "start_time": "2024-06-21T22:23:34.452173Z"
    }
   },
   "source": [
    "variant_proportions = df['promotion'].value_counts(normalize=True)\n",
    "variant_proportions"
   ],
   "outputs": [
    {
     "data": {
      "text/plain": [
       "promotion\n",
       "3    0.343066\n",
       "2    0.343066\n",
       "1    0.313869\n",
       "Name: proportion, dtype: float64"
      ]
     },
     "execution_count": 33,
     "metadata": {},
     "output_type": "execute_result"
    }
   ],
   "execution_count": 33
  },
  {
   "metadata": {},
   "cell_type": "markdown",
   "source": "# Performance of Promotions Through the Week",
   "id": "87b9c4af1425868a"
  },
  {
   "metadata": {},
   "cell_type": "markdown",
   "source": "We’ll compute the average sales in thousands for each promotion type across different weeks.",
   "id": "c74b7cfd5c385ca1"
  },
  {
   "metadata": {
    "ExecuteTime": {
     "end_time": "2024-06-21T22:23:34.502988Z",
     "start_time": "2024-06-21T22:23:34.492392Z"
    }
   },
   "cell_type": "code",
   "source": [
    "# Group by 'Promotion' and 'week' to compute average sales for each week for each promotion type\n",
    "promotion_weekly_performance = df.groupby(['promotion', 'week'])['salesinthousands'].mean().unstack()\n",
    "\n",
    "promotion_weekly_performance"
   ],
   "id": "4d231168165938cf",
   "outputs": [
    {
     "data": {
      "text/plain": [
       "week               1          2          3          4\n",
       "promotion                                            \n",
       "1          58.244419  56.929535  58.774884  58.447209\n",
       "2          47.730213  47.582553  47.722128  46.282766\n",
       "3          55.776170  55.949149  54.377872  55.354681"
      ],
      "text/html": [
       "<div>\n",
       "<style scoped>\n",
       "    .dataframe tbody tr th:only-of-type {\n",
       "        vertical-align: middle;\n",
       "    }\n",
       "\n",
       "    .dataframe tbody tr th {\n",
       "        vertical-align: top;\n",
       "    }\n",
       "\n",
       "    .dataframe thead th {\n",
       "        text-align: right;\n",
       "    }\n",
       "</style>\n",
       "<table border=\"1\" class=\"dataframe\">\n",
       "  <thead>\n",
       "    <tr style=\"text-align: right;\">\n",
       "      <th>week</th>\n",
       "      <th>1</th>\n",
       "      <th>2</th>\n",
       "      <th>3</th>\n",
       "      <th>4</th>\n",
       "    </tr>\n",
       "    <tr>\n",
       "      <th>promotion</th>\n",
       "      <th></th>\n",
       "      <th></th>\n",
       "      <th></th>\n",
       "      <th></th>\n",
       "    </tr>\n",
       "  </thead>\n",
       "  <tbody>\n",
       "    <tr>\n",
       "      <th>1</th>\n",
       "      <td>58.244419</td>\n",
       "      <td>56.929535</td>\n",
       "      <td>58.774884</td>\n",
       "      <td>58.447209</td>\n",
       "    </tr>\n",
       "    <tr>\n",
       "      <th>2</th>\n",
       "      <td>47.730213</td>\n",
       "      <td>47.582553</td>\n",
       "      <td>47.722128</td>\n",
       "      <td>46.282766</td>\n",
       "    </tr>\n",
       "    <tr>\n",
       "      <th>3</th>\n",
       "      <td>55.776170</td>\n",
       "      <td>55.949149</td>\n",
       "      <td>54.377872</td>\n",
       "      <td>55.354681</td>\n",
       "    </tr>\n",
       "  </tbody>\n",
       "</table>\n",
       "</div>"
      ]
     },
     "execution_count": 34,
     "metadata": {},
     "output_type": "execute_result"
    }
   ],
   "execution_count": 34
  },
  {
   "metadata": {
    "ExecuteTime": {
     "end_time": "2024-06-21T22:30:36.080436Z",
     "start_time": "2024-06-21T22:30:35.761606Z"
    }
   },
   "cell_type": "code",
   "source": [
    "# Adjusting the violin plot without the 'split' parameter\n",
    "colors = ['#bd0026', '#fc7c2c', '#feb24c']\n",
    "def plot_weekly_sales(df):\n",
    "    promotion_weekly = df.groupby(['promotion', 'week'])['salesinthousands'].mean().reset_index()\n",
    "    plt.figure(figsize=(12, 7))\n",
    "    sns.lineplot(data=promotion_weekly, x='week', y='salesinthousands', hue='promotion', palette=colors, marker='o')\n",
    "    plt.title('Distribution of Weekly Sales by Promotion')\n",
    "    plt.xlabel('Week')\n",
    "    plt.ylabel('Sales in Thousands')\n",
    "    plt.legend(title='Promotion')\n",
    "    plt.grid(True)\n",
    "    plt.show()\n",
    "plot_weekly_sales(df)"
   ],
   "id": "dbfd452523df8d1c",
   "outputs": [
    {
     "data": {
      "text/plain": [
       "<Figure size 1200x700 with 1 Axes>"
      ],
      "image/png": "[encoded data removed]"
     },
     "metadata": {},
     "output_type": "display_data"
    }
   ],
   "execution_count": 50
  },
  {
   "metadata": {},
   "cell_type": "markdown",
   "source": "Promotion 3 is the most dynamic, showing significant growth and adaptability throughout the period, potentially due to factors like increased awareness. Promotion 1 recovers from a dip effectively, while Promotion 2 offers stability but less growth.",
   "id": "5b8353fd1ec40c2f"
  },
  {
   "metadata": {
    "ExecuteTime": {
     "end_time": "2024-06-21T22:23:34.872804Z",
     "start_time": "2024-06-21T22:23:34.865421Z"
    }
   },
   "cell_type": "code",
   "source": [
    "# For ANOVA, you need to compare the sales values across each promotion for each week.\n",
    "f_val, p_val = stats.f_oneway(df[(df['promotion'] == 1)]['salesinthousands'],\n",
    "                              df[(df['promotion'] == 2)]['salesinthousands'],\n",
    "                              df[(df['promotion'] == 3)]['salesinthousands'])\n",
    "\n",
    "print(f'ANOVA F-value: {f_val}, p-value: {p_val}')"
   ],
   "id": "7612f24588dd73b9",
   "outputs": [
    {
     "name": "stdout",
     "output_type": "stream",
     "text": [
      "ANOVA F-value: 21.953485793080677, p-value: 6.765849261408714e-10\n"
     ]
    }
   ],
   "execution_count": 36
  },
  {
   "metadata": {},
   "cell_type": "markdown",
   "source": "The F-value is significantly high, and the small p-value (far below the typical significance level of 0.05) strongly suggests that there are significant differences in the average sales among the different promotions.",
   "id": "fa8cbb8cde525017"
  },
  {
   "metadata": {
    "ExecuteTime": {
     "end_time": "2024-06-21T22:23:34.882799Z",
     "start_time": "2024-06-21T22:23:34.873925Z"
    }
   },
   "cell_type": "code",
   "source": [
    "# Example for promotions 1 and 3:\n",
    "mean1 = df[df['promotion'] == 1]['salesinthousands'].mean()\n",
    "mean3 = df[df['promotion'] == 3]['salesinthousands'].mean()\n",
    "std1 = df[df['promotion'] == 1]['salesinthousands'].std()\n",
    "std3 = df[df['promotion'] == 3]['salesinthousands'].std()\n",
    "n1 = df[df['promotion'] == 1]['salesinthousands'].count()\n",
    "n3 = df[df['promotion'] == 3]['salesinthousands'].count()\n",
    "\n",
    "# Mean difference (treatment effect)\n",
    "mean_diff = mean3 - mean1\n",
    "\n",
    "# Standard error of the difference in means\n",
    "se_diff = np.sqrt(std1**2/n1 + std3**2/n3)\n",
    "\n",
    "# 95% Confidence Interval\n",
    "ci_low = mean_diff - 1.96 * se_diff\n",
    "ci_high = mean_diff + 1.96 * se_diff\n",
    "\n",
    "print(f'Mean Difference: {mean_diff}')\n",
    "print(f'95% Confidence Interval: ({ci_low}, {ci_high})')"
   ],
   "id": "e70947f35396da18",
   "outputs": [
    {
     "name": "stdout",
     "output_type": "stream",
     "text": [
      "Mean Difference: -2.734543542800594\n",
      "95% Confidence Interval: (-6.179034597609303, 0.7099475120081147)\n"
     ]
    }
   ],
   "execution_count": 37
  },
  {
   "metadata": {},
   "cell_type": "markdown",
   "source": "The confidence interval ranges from approximately -6.1790 to 0.7099 thousand dollars. This interval includes zero, which suggests that the difference in average sales between the two promotions might not be statistically significant at the 95% confidence level.",
   "id": "7ea541b9f68a42f6"
  },
  {
   "metadata": {
    "ExecuteTime": {
     "end_time": "2024-06-21T22:23:36.465869Z",
     "start_time": "2024-06-21T22:23:34.918638Z"
    }
   },
   "cell_type": "code",
   "source": [
    "# Extract sales data for Promotion 1 and Promotion 3\n",
    "sales_promo1 = df[df['promotion'] == 1]['salesinthousands']\n",
    "sales_promo3 = df[df['promotion'] == 3]['salesinthousands']\n",
    "\n",
    "# Bootstrap Function\n",
    "def bootstrap_mean_diff(data1, data2, n_bootstrap=10000):\n",
    "    boot_means_diff = []\n",
    "    for _ in range(n_bootstrap):\n",
    "        sample1 = np.random.choice(data1, size=len(data1), replace=True)\n",
    "        sample2 = np.random.choice(data2, size=len(data2), replace=True)\n",
    "        mean_dif = np.mean(sample2) - np.mean(sample1)\n",
    "        boot_means_diff.append(mean_dif)\n",
    "    return boot_means_diff\n",
    "\n",
    "# Run bootstrap\n",
    "bootstrap_diffs = bootstrap_mean_diff(sales_promo1, sales_promo3)\n",
    "\n",
    "# Calculate the 95% confidence interval\n",
    "confidence_interval = np.percentile(bootstrap_diffs, [2.5, 97.5])\n",
    "\n",
    "# Output results\n",
    "print(f'Bootstrap Mean Difference: {np.mean(bootstrap_diffs)}')\n",
    "print(f'95% Confidence Interval: {confidence_interval}')"
   ],
   "id": "c59edfc3ec13303",
   "outputs": [
    {
     "name": "stdout",
     "output_type": "stream",
     "text": [
      "Bootstrap Mean Difference: -2.7232226594507667\n",
      "95% Confidence Interval: [-6.22161102  0.66421478]\n"
     ]
    }
   ],
   "execution_count": 38
  },
  {
   "metadata": {},
   "cell_type": "markdown",
   "source": [
    "This indicates that, on average, Promotion 3 has sales that are approximately 2.74 thousand dollars less than those of Promotion 1, based on the bootstrap samples.\n",
    "\n",
    "The confidence interval suggests that the true difference in sales between Promotions 3 and 1 could range from Promotion 3 underperforming Promotion 1 by as much as 6.23 thousand dollars to outperforming by about 0.69 thousand dollars. Importantly, this interval includes zero, indicating that the difference is not statistically significant at the 95% confidence level."
   ],
   "id": "67bbb5ec1bac847b"
  },
  {
   "metadata": {
    "ExecuteTime": {
     "end_time": "2024-06-21T22:23:36.471996Z",
     "start_time": "2024-06-21T22:23:36.467836Z"
    }
   },
   "cell_type": "code",
   "source": [
    "# Calculate p-value for the hypothesis that Promotion 3 has higher sales than Promotion 1\n",
    "p_value = np.sum(np.array(bootstrap_diffs) > 0) / len(bootstrap_diffs)\n",
    "\n",
    "print(f'P-value: {p_value}')"
   ],
   "id": "f04a325bd3b8fcb2",
   "outputs": [
    {
     "name": "stdout",
     "output_type": "stream",
     "text": [
      "P-value: 0.0616\n"
     ]
    }
   ],
   "execution_count": 39
  },
  {
   "metadata": {},
   "cell_type": "markdown",
   "source": "The p-value is slightly above the conventional threshold of 0.05 for statistical significance",
   "id": "59483c88d60d0616"
  },
  {
   "metadata": {},
   "cell_type": "markdown",
   "source": "Conclusion: Both analyses show a mean difference that is negative, indicating lower sales for Promotion 3 compared to Promotion 1. Both confidence intervals include zero, which suggests that neither analysis could demonstrate a statistically significant difference between the promotions’ performance.",
   "id": "7c2958676e9c66d7"
  },
  {
   "metadata": {},
   "cell_type": "markdown",
   "source": "# Performance by Age of Store",
   "id": "c73e65b8a56d138a"
  },
  {
   "metadata": {},
   "cell_type": "markdown",
   "source": "We’ll examine how the sales in thousands vary by the age of the store for each type of promotion.",
   "id": "6efffa58da7dcc0"
  },
  {
   "metadata": {
    "ExecuteTime": {
     "end_time": "2024-06-21T22:23:36.488855Z",
     "start_time": "2024-06-21T22:23:36.473893Z"
    }
   },
   "cell_type": "code",
   "source": [
    "# Create age bins and group by 'Promotion' and 'AgeOfStore' bins to compute average sales\n",
    "df['ageofstorebins'] = pd.cut(df['ageofstore'], bins=[0, 5, 10, 15, 20, 100], labels=['0-5', '5-10', '10-15', '15-20', '20+'])\n",
    "\n",
    "# Group by promotion and age bin\n",
    "promotion_age_performance = df.groupby(['promotion', 'ageofstorebins'], observed=False)['salesinthousands'].mean().unstack()\n",
    "\n",
    "promotion_age_performance"
   ],
   "id": "80194fe0b8a0729",
   "outputs": [
    {
     "data": {
      "text/plain": [
       "ageofstorebins        0-5       5-10      10-15      15-20        20+\n",
       "promotion                                                            \n",
       "1               62.887639  55.732500  48.007188  63.560833  59.494167\n",
       "2               45.772875  47.246563  49.887917  39.421250  58.303333\n",
       "3               60.200882  46.546500  60.150000  65.056250  51.878500"
      ],
      "text/html": [
       "<div>\n",
       "<style scoped>\n",
       "    .dataframe tbody tr th:only-of-type {\n",
       "        vertical-align: middle;\n",
       "    }\n",
       "\n",
       "    .dataframe tbody tr th {\n",
       "        vertical-align: top;\n",
       "    }\n",
       "\n",
       "    .dataframe thead th {\n",
       "        text-align: right;\n",
       "    }\n",
       "</style>\n",
       "<table border=\"1\" class=\"dataframe\">\n",
       "  <thead>\n",
       "    <tr style=\"text-align: right;\">\n",
       "      <th>ageofstorebins</th>\n",
       "      <th>0-5</th>\n",
       "      <th>5-10</th>\n",
       "      <th>10-15</th>\n",
       "      <th>15-20</th>\n",
       "      <th>20+</th>\n",
       "    </tr>\n",
       "    <tr>\n",
       "      <th>promotion</th>\n",
       "      <th></th>\n",
       "      <th></th>\n",
       "      <th></th>\n",
       "      <th></th>\n",
       "      <th></th>\n",
       "    </tr>\n",
       "  </thead>\n",
       "  <tbody>\n",
       "    <tr>\n",
       "      <th>1</th>\n",
       "      <td>62.887639</td>\n",
       "      <td>55.732500</td>\n",
       "      <td>48.007188</td>\n",
       "      <td>63.560833</td>\n",
       "      <td>59.494167</td>\n",
       "    </tr>\n",
       "    <tr>\n",
       "      <th>2</th>\n",
       "      <td>45.772875</td>\n",
       "      <td>47.246563</td>\n",
       "      <td>49.887917</td>\n",
       "      <td>39.421250</td>\n",
       "      <td>58.303333</td>\n",
       "    </tr>\n",
       "    <tr>\n",
       "      <th>3</th>\n",
       "      <td>60.200882</td>\n",
       "      <td>46.546500</td>\n",
       "      <td>60.150000</td>\n",
       "      <td>65.056250</td>\n",
       "      <td>51.878500</td>\n",
       "    </tr>\n",
       "  </tbody>\n",
       "</table>\n",
       "</div>"
      ]
     },
     "execution_count": 40,
     "metadata": {},
     "output_type": "execute_result"
    }
   ],
   "execution_count": 40
  },
  {
   "metadata": {
    "ExecuteTime": {
     "end_time": "2024-06-21T22:23:37.290393Z",
     "start_time": "2024-06-21T22:23:36.491525Z"
    }
   },
   "cell_type": "code",
   "source": [
    "# Bar Plot for Sales Performance by Age of Store for Each Promotion\n",
    "plt.figure(figsize=(12, 7))\n",
    "sns.barplot(data=df, x='ageofstorebins', y='salesinthousands', hue='promotion', palette=colors)\n",
    "plt.title('Sales Performance by Age of Store for Each Promotion')\n",
    "plt.xlabel('Age of Store (Years)')\n",
    "plt.ylabel('Average Sales in Thousands')\n",
    "plt.legend(title='Promotion')\n",
    "plt.grid(axis='y')\n",
    "plt.show()"
   ],
   "id": "fb0184a1af4fb57b",
   "outputs": [
    {
     "data": {
      "text/plain": [
       "<Figure size 1200x700 with 1 Axes>"
      ],
      "image/png": "[encoded data removed]"
     },
     "metadata": {},
     "output_type": "display_data"
    }
   ],
   "execution_count": 41
  },
  {
   "metadata": {},
   "cell_type": "markdown",
   "source": "Promotion 1 and 3 appear to resonate better with either very new or older stores, might be due varying consumer demographics at these locations. Promotion 2's consistent yet lower performance might indicate a more generic approach that haven't leverage with store ages.",
   "id": "33d6d340e9efb371"
  },
  {
   "metadata": {
    "ExecuteTime": {
     "end_time": "2024-06-21T22:23:37.320308Z",
     "start_time": "2024-06-21T22:23:37.294088Z"
    }
   },
   "cell_type": "code",
   "source": [
    "# Assuming there are 3 promotions\n",
    "results = {}\n",
    "for promo in df['promotion'].unique():\n",
    "    groups = [df[(df['promotion'] == promo) & (df['ageofstorebins'] == bin)]['salesinthousands'].dropna() for bins in ['0-5', '5-10', '10-15', '15-20', '20+']]\n",
    "    f_val, p_val = stats.f_oneway(*groups)\n",
    "    results[promo] = (f_val, p_val)\n",
    "\n",
    "# Display the results\n",
    "for promo, result in results.items():\n",
    "    print(f'Promotion {promo}: F-value = {result[0]}, p-value = {result[1]}')"
   ],
   "id": "9810adbcfe044d4a",
   "outputs": [
    {
     "name": "stdout",
     "output_type": "stream",
     "text": [
      "Promotion 3: F-value = 8.88854764986004, p-value = 1.3983131942705182e-06\n",
      "Promotion 2: F-value = 2.601495366073113, p-value = 0.037568523624695926\n",
      "Promotion 1: F-value = 5.595323368464027, p-value = 0.00029876784683118283\n"
     ]
    }
   ],
   "execution_count": 42
  },
  {
   "metadata": {},
   "cell_type": "markdown",
   "source": [
    "Promotion 3 shows the most significant variation in effectiveness across different store ages, which might be due to the nature of the promotion being more sensitive to factors associated with the store’s demographic or physical condition.\n",
    "\n",
    "Promotion 2, while still significant, shows the least sensitivity to store age.\n",
    "\n",
    "Promotion 1 also shows significant variability in effectiveness across age bins, warranting a tailored strategy to optimize its implementation based on store age."
   ],
   "id": "cb62cad00a85d45d"
  },
  {
   "metadata": {},
   "cell_type": "markdown",
   "source": "# Performance Based on Market Size",
   "id": "6480d87679706426"
  },
  {
   "metadata": {},
   "cell_type": "markdown",
   "source": "We’ll determine which promotion performs the best in different market sizes by averaging the sales in thousands.",
   "id": "e625aea599deeb14"
  },
  {
   "metadata": {
    "ExecuteTime": {
     "end_time": "2024-06-21T22:23:37.335082Z",
     "start_time": "2024-06-21T22:23:37.322743Z"
    }
   },
   "cell_type": "code",
   "source": [
    "# Group by 'Promotion' and 'MarketSize' to compute average sales for each market size for each promotion type\n",
    "promotion_market_performance = df.groupby(['promotion', 'marketsize'])['salesinthousands'].mean().unstack()\n",
    "\n",
    "promotion_market_performance"
   ],
   "id": "cbce8c71ca1842ee",
   "outputs": [
    {
     "data": {
      "text/plain": [
       "marketsize      Large     Medium      Small\n",
       "promotion                                  \n",
       "1           75.235893  47.672604  60.162500\n",
       "2           60.322031  39.114352  50.810625\n",
       "3           77.203958  45.468879  59.514167"
      ],
      "text/html": [
       "<div>\n",
       "<style scoped>\n",
       "    .dataframe tbody tr th:only-of-type {\n",
       "        vertical-align: middle;\n",
       "    }\n",
       "\n",
       "    .dataframe tbody tr th {\n",
       "        vertical-align: top;\n",
       "    }\n",
       "\n",
       "    .dataframe thead th {\n",
       "        text-align: right;\n",
       "    }\n",
       "</style>\n",
       "<table border=\"1\" class=\"dataframe\">\n",
       "  <thead>\n",
       "    <tr style=\"text-align: right;\">\n",
       "      <th>marketsize</th>\n",
       "      <th>Large</th>\n",
       "      <th>Medium</th>\n",
       "      <th>Small</th>\n",
       "    </tr>\n",
       "    <tr>\n",
       "      <th>promotion</th>\n",
       "      <th></th>\n",
       "      <th></th>\n",
       "      <th></th>\n",
       "    </tr>\n",
       "  </thead>\n",
       "  <tbody>\n",
       "    <tr>\n",
       "      <th>1</th>\n",
       "      <td>75.235893</td>\n",
       "      <td>47.672604</td>\n",
       "      <td>60.162500</td>\n",
       "    </tr>\n",
       "    <tr>\n",
       "      <th>2</th>\n",
       "      <td>60.322031</td>\n",
       "      <td>39.114352</td>\n",
       "      <td>50.810625</td>\n",
       "    </tr>\n",
       "    <tr>\n",
       "      <th>3</th>\n",
       "      <td>77.203958</td>\n",
       "      <td>45.468879</td>\n",
       "      <td>59.514167</td>\n",
       "    </tr>\n",
       "  </tbody>\n",
       "</table>\n",
       "</div>"
      ]
     },
     "execution_count": 43,
     "metadata": {},
     "output_type": "execute_result"
    }
   ],
   "execution_count": 43
  },
  {
   "metadata": {
    "ExecuteTime": {
     "end_time": "2024-06-21T22:32:03.164106Z",
     "start_time": "2024-06-21T22:32:02.865010Z"
    }
   },
   "cell_type": "code",
   "source": [
    "# Heatmap for Performance of Each Promotion in Different Market Sizes\n",
    "def plot_heatmap(data):\n",
    "    plt.figure(figsize=(12, 7))\n",
    "    sns.heatmap(data, annot=True, fmt=\".2f\", cmap=\"YlOrRd\", linewidths=.5)\n",
    "    plt.title('Performance of Promotions by Market Size')\n",
    "    plt.xlabel('Market Size')\n",
    "    plt.ylabel('Promotion')\n",
    "    plt.show()\n",
    "plot_heatmap(promotion_market_performance)"
   ],
   "id": "33d6e77421b9da8e",
   "outputs": [
    {
     "data": {
      "text/plain": [
       "<Figure size 1200x700 with 2 Axes>"
      ],
      "image/png": "[encoded data removed]"
     },
     "metadata": {},
     "output_type": "display_data"
    }
   ],
   "execution_count": 53
  },
  {
   "metadata": {},
   "cell_type": "markdown",
   "source": "All promotions perform best in large market environments, possibly benefiting from greater customer bases or more substantial marketing resources. However, the steep drop in performance from large to small markets for Promotion 3 suggests a possible over-reliance on market size, whereas Promotion 1 slightly outperforms in Medium and Small markets.",
   "id": "2a5ffa6e661d2257"
  },
  {
   "metadata": {
    "ExecuteTime": {
     "end_time": "2024-06-21T22:23:37.613478Z",
     "start_time": "2024-06-21T22:23:37.598536Z"
    }
   },
   "cell_type": "code",
   "source": [
    "# Assuming you have three market sizes: Large, Medium, Small\n",
    "results = {}\n",
    "for promo in df['promotion'].unique():\n",
    "    groups = [df[(df['promotion'] == promo) & (df['marketsize'] == size)]['salesinthousands'].dropna() for size in ['Large', 'Medium', 'Small']]\n",
    "    f_val, p_val = stats.f_oneway(*groups)\n",
    "    results[promo] = (f_val, p_val)\n",
    "\n",
    "# Display the results\n",
    "for promo, result in results.items():\n",
    "    print(f'Promotion {promo}: F-value = {result[0]}, p-value = {result[1]}')"
   ],
   "id": "8420b7e15237c274",
   "outputs": [
    {
     "name": "stdout",
     "output_type": "stream",
     "text": [
      "Promotion 3: F-value = 179.13914752884793, p-value = 5.29440405719637e-44\n",
      "Promotion 2: F-value = 69.31655634597757, p-value = 3.4157570723973646e-23\n",
      "Promotion 1: F-value = 114.55557659624542, p-value = 3.597985579437392e-32\n"
     ]
    }
   ],
   "execution_count": 45
  },
  {
   "metadata": {},
   "cell_type": "markdown",
   "source": "All three promotions show statistically significant variations in their effectiveness across different market sizes. Specifically, Promotion 3 shows the most sensitivity to market size, followed by Promotion 1, and then Promotion 2.",
   "id": "baab3023c4a5e38"
  },
  {
   "metadata": {
    "ExecuteTime": {
     "end_time": "2024-06-21T22:23:37.840509Z",
     "start_time": "2024-06-21T22:23:37.614744Z"
    }
   },
   "cell_type": "code",
   "source": [
    "def calculate_bootstrap_means(data1, data2, n_bootstrap=1000):\n",
    "    \"\"\"Calculate bootstrap mean difference and 95% confidence interval.\"\"\"\n",
    "    boot_means = []\n",
    "    for _ in range(n_bootstrap):\n",
    "        sample1 = np.random.choice(data1, size=len(data1), replace=True)\n",
    "        sample2 = np.random.choice(data2, size=len(data2), replace=True)\n",
    "        boot_means.append(sample1.mean() - sample2.mean())\n",
    "    conf_interval = np.percentile(boot_means, [2.5, 97.5])\n",
    "    mean_dif = np.mean(boot_means)\n",
    "    return mean_dif, conf_interval\n",
    "\n",
    "# Promotion 1: Large vs Small\n",
    "data_large_p1 = df[(df['promotion'] == 1) & (df['marketsize'] == 'Large')]['salesinthousands']\n",
    "data_small_p1 = df[(df['promotion'] == 1) & (df['marketsize'] == 'Small')]['salesinthousands']\n",
    "mean_diff_p1, conf_interval_p1 = calculate_bootstrap_means(data_large_p1, data_small_p1)\n",
    "\n",
    "# Promotion 3: Large vs Small\n",
    "data_large_p3 = df[(df['promotion'] == 3) & (df['marketsize'] == 'Large')]['salesinthousands']\n",
    "data_small_p3 = df[(df['promotion'] == 3) & (df['marketsize'] == 'Small')]['salesinthousands']\n",
    "mean_diff_p3, conf_interval_p3 = calculate_bootstrap_means(data_large_p3, data_small_p3)\n",
    "\n",
    "# Print results\n",
    "print(f\"Promotion 1 - Mean Difference: {mean_diff_p1}, 95% Confidence Interval: {conf_interval_p1}\")\n",
    "print(f\"Promotion 3 - Mean Difference: {mean_diff_p3}, 95% Confidence Interval: {conf_interval_p3}\")"
   ],
   "id": "258947897af3c899",
   "outputs": [
    {
     "name": "stdout",
     "output_type": "stream",
     "text": [
      "Promotion 1 - Mean Difference: 15.007108464285713, 95% Confidence Interval: [10.2488875  19.57803929]\n",
      "Promotion 3 - Mean Difference: 17.68638270833333, 95% Confidence Interval: [12.935625   22.20567708]\n"
     ]
    }
   ],
   "execution_count": 46
  },
  {
   "metadata": {},
   "cell_type": "markdown",
   "source": "Both Promotion 1 and Promotion 3 are highly effective in increasing sales, with Promotion 3 showing a slightly higher mean difference.",
   "id": "5faa8db5113ed63a"
  },
  {
   "metadata": {},
   "cell_type": "markdown",
   "source": "# Overall Summary",
   "id": "381567f09d3c1ee4"
  },
  {
   "metadata": {},
   "cell_type": "markdown",
   "source": "View Food Marketing Dashboard here: https://lookerstudio.google.com/reporting/28545b28-b8dc-4674-8200-d1e4faadd33e",
   "id": "4d3af433357917a9"
  },
  {
   "metadata": {
    "ExecuteTime": {
     "end_time": "2024-06-21T22:30:48.325638Z",
     "start_time": "2024-06-21T22:30:47.996032Z"
    }
   },
   "cell_type": "code",
   "source": "plot_weekly_sales(df)",
   "id": "d4a6069e5d63e60e",
   "outputs": [
    {
     "data": {
      "text/plain": [
       "<Figure size 1200x700 with 1 Axes>"
      ],
      "image/png": "[encoded data removed]"
     },
     "metadata": {},
     "output_type": "display_data"
    }
   ],
   "execution_count": 51
  },
  {
   "metadata": {},
   "cell_type": "markdown",
   "source": "Promotion 3 is ideal for dynamic, suitable for market environments where rapid growth is possible. It may require more nuanced strategies in smaller markets or could be paired with other initiatives to bolster its effectiveness in less populated areas.",
   "id": "3ee1f46045846a22"
  },
  {
   "metadata": {
    "ExecuteTime": {
     "end_time": "2024-06-21T22:32:16.973454Z",
     "start_time": "2024-06-21T22:32:16.331340Z"
    }
   },
   "cell_type": "code",
   "source": "plot_heatmap(promotion_market_performance)",
   "id": "a0d93e963cd5cdd0",
   "outputs": [
    {
     "data": {
      "text/plain": [
       "<Figure size 1200x700 with 2 Axes>"
      ],
      "image/png": "[encoded data removed]"
     },
     "metadata": {},
     "output_type": "display_data"
    }
   ],
   "execution_count": 54
  },
  {
   "metadata": {},
   "cell_type": "markdown",
   "source": [
    "Promotion 1 is well-suited for large-scale market environments and could be particularly effective in launching new stores or rejuvenating older locations. Its ability to recover and grow suggests it could be aggressively marketed during periods of potential sales slumps.\n",
    "    \n",
    "Due to its stability, Promotion 2 could serve as a reliable year-round campaign across various store ages but might need additional support or customization in smaller markets. Its consistent performance makes it a safe choice for sustained, long-term marketing efforts.\n",
    "\n"
   ],
   "id": "582f016e14075893"
  },
  {
   "metadata": {},
   "cell_type": "markdown",
   "source": "## Suggestions",
   "id": "7dce327410e60ac3"
  },
  {
   "metadata": {},
   "cell_type": "markdown",
   "source": [
    "Consider economic variables such as seasonal purchasing patterns, and overall consumer spending trends.\n",
    "\n",
    "Include customer age, gender, purchasing habits, and preferences to understand which segments are most responsive to each promotion.\n",
    "\n",
    "Gather qualitative data from customers about why they responded to certain promotions or preferred certain store locations. This can add context to the quantitative data, offering deeper insights.\n",
    "\n"
   ],
   "id": "5b0ebc46043eeec7"
  },
  {
   "metadata": {},
   "cell_type": "code",
   "outputs": [],
   "execution_count": null,
   "source": "",
   "id": "a432e54cf140ee43"
  }
 ],
 "metadata": {
  "kernelspec": {
   "display_name": "Python 3 (ipykernel)",
   "language": "python",
   "name": "python3"
  },
  "language_info": {
   "codemirror_mode": {
    "name": "ipython",
    "version": 3
   },
   "file_extension": ".py",
   "mimetype": "text/x-python",
   "name": "python",
   "nbconvert_exporter": "python",
   "pygments_lexer": "ipython3",
   "version": "3.12.4"
  }
 },
 "nbformat": 4,
 "nbformat_minor": 5
}
