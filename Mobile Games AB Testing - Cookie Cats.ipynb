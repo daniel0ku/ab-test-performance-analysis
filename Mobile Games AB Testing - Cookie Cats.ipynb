{
 "cells": [
  {
   "cell_type": "markdown",
   "id": "d5fad498",
   "metadata": {},
   "source": [
    "# Mobile Games A/B Testing - Cookie Cats"
   ]
  },
  {
   "cell_type": "markdown",
   "id": "ee94d022",
   "metadata": {},
   "source": [
    "## About Dataset from the Author"
   ]
  },
  {
   "cell_type": "markdown",
   "id": "c657deba",
   "metadata": {},
   "source": [
    "This dataset includes A/B test results of Cookie Cats to examine what happens when the first gate in the game was moved from level 30 to level 40. When a player installed the game, he or she was randomly assigned to either gate_30 or gate_40.\n",
    "\n",
    "The data we have is from 90,189 players that installed the game while the AB-test was running.\n",
    "When a player installed the game, he or she was randomly assigned to either."
   ]
  },
  {
   "cell_type": "markdown",
   "id": "f2ef8555",
   "metadata": {},
   "source": [
    "## Goal"
   ]
  },
  {
   "cell_type": "markdown",
   "id": "43a706b1",
   "metadata": {},
   "source": [
    "The primary goal of this A/B test was to determine whether moving the first gate to a later level would improve player retention and engagement."
   ]
  },
  {
   "cell_type": "markdown",
   "id": "68e832e6",
   "metadata": {},
   "source": [
    "## Target Metric"
   ]
  },
  {
   "cell_type": "markdown",
   "id": "5f52647a",
   "metadata": {},
   "source": [
    "The 7-day retention rate measures the proportion of players who return to the game seven days after installing it. This metric is crucial because it indicates long-term engagement and satisfaction with the game, which are essential for the game's success."
   ]
  },
  {
   "cell_type": "markdown",
   "id": "4246cebc",
   "metadata": {},
   "source": [
    "## Notebook Preparation"
   ]
  },
  {
   "cell_type": "code",
   "execution_count": 1,
   "id": "15ab3a0c",
   "metadata": {
    "ExecuteTime": {
     "end_time": "2024-06-20T23:00:20.220887Z",
     "start_time": "2024-06-20T23:00:20.216899Z"
    }
   },
   "outputs": [],
   "source": [
    "import pandas as pd\n",
    "import numpy as np\n",
    "import seaborn as sns\n",
    "import matplotlib.pyplot as plt\n",
    "from scipy import stats"
   ]
  },
  {
   "cell_type": "code",
   "execution_count": 2,
   "id": "be276758",
   "metadata": {
    "ExecuteTime": {
     "end_time": "2024-06-20T23:00:20.315693Z",
     "start_time": "2024-06-20T23:00:20.223382Z"
    }
   },
   "outputs": [
    {
     "data": {
      "text/html": [
       "<div>\n",
       "<style scoped>\n",
       "    .dataframe tbody tr th:only-of-type {\n",
       "        vertical-align: middle;\n",
       "    }\n",
       "\n",
       "    .dataframe tbody tr th {\n",
       "        vertical-align: top;\n",
       "    }\n",
       "\n",
       "    .dataframe thead th {\n",
       "        text-align: right;\n",
       "    }\n",
       "</style>\n",
       "<table border=\"1\" class=\"dataframe\">\n",
       "  <thead>\n",
       "    <tr style=\"text-align: right;\">\n",
       "      <th></th>\n",
       "      <th>userid</th>\n",
       "      <th>version</th>\n",
       "      <th>sum_gamerounds</th>\n",
       "      <th>retention_1</th>\n",
       "      <th>retention_7</th>\n",
       "    </tr>\n",
       "  </thead>\n",
       "  <tbody>\n",
       "    <tr>\n",
       "      <th>0</th>\n",
       "      <td>116</td>\n",
       "      <td>gate_30</td>\n",
       "      <td>3</td>\n",
       "      <td>False</td>\n",
       "      <td>False</td>\n",
       "    </tr>\n",
       "    <tr>\n",
       "      <th>1</th>\n",
       "      <td>337</td>\n",
       "      <td>gate_30</td>\n",
       "      <td>38</td>\n",
       "      <td>True</td>\n",
       "      <td>False</td>\n",
       "    </tr>\n",
       "    <tr>\n",
       "      <th>2</th>\n",
       "      <td>377</td>\n",
       "      <td>gate_40</td>\n",
       "      <td>165</td>\n",
       "      <td>True</td>\n",
       "      <td>False</td>\n",
       "    </tr>\n",
       "    <tr>\n",
       "      <th>3</th>\n",
       "      <td>483</td>\n",
       "      <td>gate_40</td>\n",
       "      <td>1</td>\n",
       "      <td>False</td>\n",
       "      <td>False</td>\n",
       "    </tr>\n",
       "    <tr>\n",
       "      <th>4</th>\n",
       "      <td>488</td>\n",
       "      <td>gate_40</td>\n",
       "      <td>179</td>\n",
       "      <td>True</td>\n",
       "      <td>True</td>\n",
       "    </tr>\n",
       "  </tbody>\n",
       "</table>\n",
       "</div>"
      ],
      "text/plain": [
       "   userid  version  sum_gamerounds  retention_1  retention_7\n",
       "0     116  gate_30               3        False        False\n",
       "1     337  gate_30              38         True        False\n",
       "2     377  gate_40             165         True        False\n",
       "3     483  gate_40               1        False        False\n",
       "4     488  gate_40             179         True         True"
      ]
     },
     "execution_count": 2,
     "metadata": {},
     "output_type": "execute_result"
    }
   ],
   "source": [
    "df = pd.read_csv('Data/cookie_cats.csv')\n",
    "df.head()"
   ]
  },
  {
   "cell_type": "code",
   "execution_count": 3,
   "id": "39ea19d0",
   "metadata": {
    "ExecuteTime": {
     "end_time": "2024-06-20T23:00:20.339700Z",
     "start_time": "2024-06-20T23:00:20.320339Z"
    }
   },
   "outputs": [
    {
     "name": "stdout",
     "output_type": "stream",
     "text": [
      "<class 'pandas.core.frame.DataFrame'>\n",
      "RangeIndex: 90189 entries, 0 to 90188\n",
      "Data columns (total 5 columns):\n",
      " #   Column          Non-Null Count  Dtype \n",
      "---  ------          --------------  ----- \n",
      " 0   userid          90189 non-null  int64 \n",
      " 1   version         90189 non-null  object\n",
      " 2   sum_gamerounds  90189 non-null  int64 \n",
      " 3   retention_1     90189 non-null  bool  \n",
      " 4   retention_7     90189 non-null  bool  \n",
      "dtypes: bool(2), int64(2), object(1)\n",
      "memory usage: 2.2+ MB\n"
     ]
    }
   ],
   "source": [
    "# Data Summary\n",
    "df.info()"
   ]
  },
  {
   "cell_type": "code",
   "execution_count": 4,
   "id": "ff398006",
   "metadata": {
    "ExecuteTime": {
     "end_time": "2024-06-20T23:00:20.375864Z",
     "start_time": "2024-06-20T23:00:20.341705Z"
    }
   },
   "outputs": [
    {
     "data": {
      "text/plain": [
       "(userid            0\n",
       " version           0\n",
       " sum_gamerounds    0\n",
       " retention_1       0\n",
       " retention_7       0\n",
       " dtype: int64,\n",
       " 0)"
      ]
     },
     "execution_count": 4,
     "metadata": {},
     "output_type": "execute_result"
    }
   ],
   "source": [
    "# Check for missing data\n",
    "missing_data = df.isnull().sum()\n",
    "\n",
    "# Check for duplicate data\n",
    "duplicate_data = df.duplicated().sum()\n",
    "\n",
    "missing_data, duplicate_data"
   ]
  },
  {
   "cell_type": "code",
   "execution_count": 5,
   "id": "37081dfc",
   "metadata": {
    "ExecuteTime": {
     "end_time": "2024-06-20T23:00:20.404856Z",
     "start_time": "2024-06-20T23:00:20.378469Z"
    },
    "scrolled": true
   },
   "outputs": [
    {
     "data": {
      "text/html": [
       "<div>\n",
       "<style scoped>\n",
       "    .dataframe tbody tr th:only-of-type {\n",
       "        vertical-align: middle;\n",
       "    }\n",
       "\n",
       "    .dataframe tbody tr th {\n",
       "        vertical-align: top;\n",
       "    }\n",
       "\n",
       "    .dataframe thead th {\n",
       "        text-align: right;\n",
       "    }\n",
       "</style>\n",
       "<table border=\"1\" class=\"dataframe\">\n",
       "  <thead>\n",
       "    <tr style=\"text-align: right;\">\n",
       "      <th></th>\n",
       "      <th>userid</th>\n",
       "      <th>sum_gamerounds</th>\n",
       "    </tr>\n",
       "  </thead>\n",
       "  <tbody>\n",
       "    <tr>\n",
       "      <th>count</th>\n",
       "      <td>9.018900e+04</td>\n",
       "      <td>90189.000000</td>\n",
       "    </tr>\n",
       "    <tr>\n",
       "      <th>mean</th>\n",
       "      <td>4.998412e+06</td>\n",
       "      <td>51.872457</td>\n",
       "    </tr>\n",
       "    <tr>\n",
       "      <th>std</th>\n",
       "      <td>2.883286e+06</td>\n",
       "      <td>195.050858</td>\n",
       "    </tr>\n",
       "    <tr>\n",
       "      <th>min</th>\n",
       "      <td>1.160000e+02</td>\n",
       "      <td>0.000000</td>\n",
       "    </tr>\n",
       "    <tr>\n",
       "      <th>25%</th>\n",
       "      <td>2.512230e+06</td>\n",
       "      <td>5.000000</td>\n",
       "    </tr>\n",
       "    <tr>\n",
       "      <th>50%</th>\n",
       "      <td>4.995815e+06</td>\n",
       "      <td>16.000000</td>\n",
       "    </tr>\n",
       "    <tr>\n",
       "      <th>75%</th>\n",
       "      <td>7.496452e+06</td>\n",
       "      <td>51.000000</td>\n",
       "    </tr>\n",
       "    <tr>\n",
       "      <th>max</th>\n",
       "      <td>9.999861e+06</td>\n",
       "      <td>49854.000000</td>\n",
       "    </tr>\n",
       "  </tbody>\n",
       "</table>\n",
       "</div>"
      ],
      "text/plain": [
       "             userid  sum_gamerounds\n",
       "count  9.018900e+04    90189.000000\n",
       "mean   4.998412e+06       51.872457\n",
       "std    2.883286e+06      195.050858\n",
       "min    1.160000e+02        0.000000\n",
       "25%    2.512230e+06        5.000000\n",
       "50%    4.995815e+06       16.000000\n",
       "75%    7.496452e+06       51.000000\n",
       "max    9.999861e+06    49854.000000"
      ]
     },
     "execution_count": 5,
     "metadata": {},
     "output_type": "execute_result"
    }
   ],
   "source": [
    "# Descriptive Statistics\n",
    "df.describe()"
   ]
  },
  {
   "cell_type": "markdown",
   "id": "a45122ce55bfe616",
   "metadata": {},
   "source": [
    "# Summary A/B results"
   ]
  },
  {
   "cell_type": "code",
   "execution_count": 6,
   "id": "2cea6a0d7465edd8",
   "metadata": {
    "ExecuteTime": {
     "end_time": "2024-06-20T23:00:20.416157Z",
     "start_time": "2024-06-20T23:00:20.407309Z"
    }
   },
   "outputs": [
    {
     "data": {
      "text/plain": [
       "90189"
      ]
     },
     "execution_count": 6,
     "metadata": {},
     "output_type": "execute_result"
    }
   ],
   "source": [
    "sample_size = df.shape[0]\n",
    "sample_size"
   ]
  },
  {
   "cell_type": "code",
   "execution_count": 7,
   "id": "d5d150ee80c8f91f",
   "metadata": {
    "ExecuteTime": {
     "end_time": "2024-06-20T23:00:20.435984Z",
     "start_time": "2024-06-20T23:00:20.419984Z"
    }
   },
   "outputs": [
    {
     "data": {
      "text/plain": [
       "version\n",
       "gate_40    0.504374\n",
       "gate_30    0.495626\n",
       "Name: proportion, dtype: float64"
      ]
     },
     "execution_count": 7,
     "metadata": {},
     "output_type": "execute_result"
    }
   ],
   "source": [
    "variant_proportions = df['version'].value_counts(normalize=True)\n",
    "variant_proportions"
   ]
  },
  {
   "cell_type": "code",
   "execution_count": 8,
   "id": "fb23f0661767348e",
   "metadata": {
    "ExecuteTime": {
     "end_time": "2024-06-20T23:00:20.479277Z",
     "start_time": "2024-06-20T23:00:20.438513Z"
    }
   },
   "outputs": [
    {
     "data": {
      "text/plain": [
       "(0.8910426211362967, 0.37290868247405207)"
      ]
     },
     "execution_count": 8,
     "metadata": {},
     "output_type": "execute_result"
    }
   ],
   "source": [
    "game_rounds_30 = df[df['version'] == 'gate_30']['sum_gamerounds']\n",
    "game_rounds_40 = df[df['version'] == 'gate_40']['sum_gamerounds']\n",
    "\n",
    "t_stat, p_game_rounds = stats.ttest_ind(game_rounds_30, game_rounds_40)\n",
    "t_stat, p_game_rounds"
   ]
  },
  {
   "cell_type": "markdown",
   "id": "a0c31ea525d15586",
   "metadata": {},
   "source": [
    "The p-value of 0.3729 suggests no significant difference in the number of game rounds played."
   ]
  },
  {
   "cell_type": "code",
   "execution_count": 9,
   "id": "b37e3f145fe20c50",
   "metadata": {
    "ExecuteTime": {
     "end_time": "2024-06-20T23:00:20.493182Z",
     "start_time": "2024-06-20T23:00:20.482365Z"
    }
   },
   "outputs": [
    {
     "data": {
      "text/plain": [
       "(1.157488453953249, (-1.4046752827404423, 3.7196521906469404))"
      ]
     },
     "execution_count": 9,
     "metadata": {},
     "output_type": "execute_result"
    }
   ],
   "source": [
    "# Calculate mean and standard deviation for each group\n",
    "mean_30 = game_rounds_30.mean()\n",
    "mean_40 = game_rounds_40.mean()\n",
    "std_30 = game_rounds_30.std()\n",
    "std_40 = game_rounds_40.std()\n",
    "\n",
    "# Calculate the sample sizes\n",
    "n_30 = len(game_rounds_30)\n",
    "n_40 = len(game_rounds_40)\n",
    "\n",
    "# Calculate the standard error of the mean difference\n",
    "std_err_diff = np.sqrt((std_30**2 / n_30) + (std_40**2 / n_40))\n",
    "\n",
    "# Calculate the mean difference\n",
    "mean_diff = mean_30 - mean_40\n",
    "\n",
    "# Calculate the 95% confidence interval for the mean difference\n",
    "conf_interval = stats.norm.interval(0.95, loc=mean_diff, scale=std_err_diff)\n",
    "\n",
    "mean_diff, conf_interval\n"
   ]
  },
  {
   "cell_type": "markdown",
   "id": "d399ea65f6cf1d7d",
   "metadata": {},
   "source": [
    "The positive mean difference indicates that, on average, players in the gate_30 group played more game rounds than those in the gate_40 group.\n",
    "\n",
    "The 95% confidence interval for the mean difference ranges from -1.40 to 3.72. This interval includes zero, indicating that the difference is not statistically significant at the 5% level."
   ]
  },
  {
   "cell_type": "code",
   "execution_count": 10,
   "id": "aee7c8b90de85ca1",
   "metadata": {
    "ExecuteTime": {
     "end_time": "2024-06-20T23:00:23.807649Z",
     "start_time": "2024-06-20T23:00:20.495700Z"
    }
   },
   "outputs": [
    {
     "data": {
      "text/plain": [
       "array([-4.02646256,  0.97641238])"
      ]
     },
     "execution_count": 10,
     "metadata": {},
     "output_type": "execute_result"
    }
   ],
   "source": [
    "bootstrap_samples = 1000\n",
    "bootstrap_means = []\n",
    "\n",
    "for _ in range(bootstrap_samples):\n",
    "    sample_30 = game_rounds_30.sample(frac=1, replace=True)\n",
    "    sample_40 = game_rounds_40.sample(frac=1, replace=True)\n",
    "    bootstrap_means.append(sample_40.mean() - sample_30.mean())\n",
    "\n",
    "bootstrap_conf_interval = np.percentile(bootstrap_means, [2.5, 97.5])\n",
    "bootstrap_conf_interval"
   ]
  },
  {
   "cell_type": "markdown",
   "id": "2e904649869c02f0",
   "metadata": {},
   "source": [
    "The bootstrap confidence interval indicates that the true difference in game rounds is likely between -4.07 and 0.88.\n",
    "\n",
    "Since the interval includes zero, it indicates that there is a possibility that there is no significant difference in the mean number of game rounds played between the two groups. The difference could be negative (indicating gate_30 is better), positive (indicating gate_40 is better), or zero (no difference)."
   ]
  },
  {
   "cell_type": "markdown",
   "id": "454c869ae3691174",
   "metadata": {},
   "source": [
    "# Retention rates"
   ]
  },
  {
   "cell_type": "code",
   "execution_count": 11,
   "id": "219d082bcb1b55bc",
   "metadata": {
    "ExecuteTime": {
     "end_time": "2024-06-20T23:00:23.829071Z",
     "start_time": "2024-06-20T23:00:23.809416Z"
    }
   },
   "outputs": [
    {
     "data": {
      "text/html": [
       "<div>\n",
       "<style scoped>\n",
       "    .dataframe tbody tr th:only-of-type {\n",
       "        vertical-align: middle;\n",
       "    }\n",
       "\n",
       "    .dataframe tbody tr th {\n",
       "        vertical-align: top;\n",
       "    }\n",
       "\n",
       "    .dataframe thead th {\n",
       "        text-align: right;\n",
       "    }\n",
       "</style>\n",
       "<table border=\"1\" class=\"dataframe\">\n",
       "  <thead>\n",
       "    <tr style=\"text-align: right;\">\n",
       "      <th></th>\n",
       "      <th>retention_1</th>\n",
       "      <th>retention_7</th>\n",
       "    </tr>\n",
       "    <tr>\n",
       "      <th>version</th>\n",
       "      <th></th>\n",
       "      <th></th>\n",
       "    </tr>\n",
       "  </thead>\n",
       "  <tbody>\n",
       "    <tr>\n",
       "      <th>gate_30</th>\n",
       "      <td>0.448188</td>\n",
       "      <td>0.190201</td>\n",
       "    </tr>\n",
       "    <tr>\n",
       "      <th>gate_40</th>\n",
       "      <td>0.442283</td>\n",
       "      <td>0.182000</td>\n",
       "    </tr>\n",
       "  </tbody>\n",
       "</table>\n",
       "</div>"
      ],
      "text/plain": [
       "         retention_1  retention_7\n",
       "version                          \n",
       "gate_30     0.448188     0.190201\n",
       "gate_40     0.442283     0.182000"
      ]
     },
     "execution_count": 11,
     "metadata": {},
     "output_type": "execute_result"
    }
   ],
   "source": [
    "# Calculate retention rates for both 1-day and 7-day retention\n",
    "retention_rates = df.groupby('version')[['retention_1', 'retention_7']].mean()\n",
    "\n",
    "# Display the retention rates\n",
    "retention_rates\n"
   ]
  },
  {
   "cell_type": "code",
   "execution_count": 12,
   "id": "80285205fd54f941",
   "metadata": {
    "ExecuteTime": {
     "end_time": "2024-06-20T23:00:27.055921Z",
     "start_time": "2024-06-20T23:00:23.836412Z"
    }
   },
   "outputs": [
    {
     "data": {
      "image/png": "[encoded data removed]",
      "text/plain": [
       "<Figure size 1200x600 with 1 Axes>"
      ]
     },
     "metadata": {},
     "output_type": "display_data"
    }
   ],
   "source": [
    "plt.figure(figsize=(12, 6))\n",
    "retention_rates = df.melt(id_vars='version', value_vars=['retention_1', 'retention_7'], var_name='Retention Day', value_name='Retention')\n",
    "sns.barplot(data=retention_rates, x='Retention Day', y='Retention', hue='version', palette=['#8056A7','#0E0C56'])\n",
    "plt.title('Retention Rates by Version')\n",
    "plt.xlabel('Retention Day')\n",
    "plt.ylabel('Retention Rate')\n",
    "plt.legend(title='Version')\n",
    "plt.show()"
   ]
  },
  {
   "cell_type": "markdown",
   "id": "35511d25a86ad3d3",
   "metadata": {},
   "source": [
    "These results indicate that moving the first gate from level 30 to level 40 does not significantly improve retention rates, and might slightly reduce the 7-day retention rate."
   ]
  },
  {
   "cell_type": "markdown",
   "id": "95a4c6f284f3314c",
   "metadata": {},
   "source": [
    "The chi-square test is appropriate for comparing proportions between two categorical groups. Here, we are comparing the proportion of players who returned after 1 day between the gate_30 and gate_40 groups, repeating it for 7-day retention."
   ]
  },
  {
   "cell_type": "code",
   "execution_count": 13,
   "id": "9ccc5b4e332f2d45",
   "metadata": {
    "ExecuteTime": {
     "end_time": "2024-06-20T23:00:27.124933Z",
     "start_time": "2024-06-20T23:00:27.058175Z"
    }
   },
   "outputs": [
    {
     "data": {
      "text/html": [
       "<div>\n",
       "<style scoped>\n",
       "    .dataframe tbody tr th:only-of-type {\n",
       "        vertical-align: middle;\n",
       "    }\n",
       "\n",
       "    .dataframe tbody tr th {\n",
       "        vertical-align: top;\n",
       "    }\n",
       "\n",
       "    .dataframe thead th {\n",
       "        text-align: right;\n",
       "    }\n",
       "</style>\n",
       "<table border=\"1\" class=\"dataframe\">\n",
       "  <thead>\n",
       "    <tr style=\"text-align: right;\">\n",
       "      <th></th>\n",
       "      <th>Retention Metric</th>\n",
       "      <th>Chi-squared Statistic</th>\n",
       "      <th>p-value</th>\n",
       "    </tr>\n",
       "  </thead>\n",
       "  <tbody>\n",
       "    <tr>\n",
       "      <th>0</th>\n",
       "      <td>1-day Retention</td>\n",
       "      <td>3.159101</td>\n",
       "      <td>0.075505</td>\n",
       "    </tr>\n",
       "    <tr>\n",
       "      <th>1</th>\n",
       "      <td>7-day Retention</td>\n",
       "      <td>9.959087</td>\n",
       "      <td>0.001601</td>\n",
       "    </tr>\n",
       "  </tbody>\n",
       "</table>\n",
       "</div>"
      ],
      "text/plain": [
       "  Retention Metric  Chi-squared Statistic   p-value\n",
       "0  1-day Retention               3.159101  0.075505\n",
       "1  7-day Retention               9.959087  0.001601"
      ]
     },
     "execution_count": 13,
     "metadata": {},
     "output_type": "execute_result"
    }
   ],
   "source": [
    "# Create contingency tables for retention rates\n",
    "contingency_table_retention_1 = pd.crosstab(df['version'], df['retention_1'])\n",
    "contingency_table_retention_7 = pd.crosstab(df['version'], df['retention_7'])\n",
    "\n",
    "# Perform Chi-squared test for 1-day retention\n",
    "chi2_retention_1, p_retention_1, _, _ = stats.chi2_contingency(contingency_table_retention_1)\n",
    "\n",
    "# Perform Chi-squared test for 7-day retention\n",
    "chi2_retention_7, p_retention_7, _, _ = stats.chi2_contingency(contingency_table_retention_7)\n",
    "\n",
    "# Prepare the results\n",
    "stat_results = {\n",
    "    \"Retention Metric\": [\"1-day Retention\", \"7-day Retention\"],\n",
    "    \"Chi-squared Statistic\": [chi2_retention_1, chi2_retention_7],\n",
    "    \"p-value\": [p_retention_1, p_retention_7]\n",
    "}\n",
    "\n",
    "stat_results_df = pd.DataFrame(stat_results)\n",
    "\n",
    "stat_results_df\n"
   ]
  },
  {
   "cell_type": "markdown",
   "id": "a4b64aae7b43459a",
   "metadata": {},
   "source": [
    "1-day Retention: The p-value is 0.0755, which is greater than the common significance level of 0.05. Therefore, we fail to reject the null hypothesis. This suggests that there is no significant difference in the 1-day retention rates between the gate_30 and gate_40 groups."
   ]
  },
  {
   "cell_type": "markdown",
   "id": "aa532f2300f0f73a",
   "metadata": {},
   "source": [
    "7-day Retention: The p-value is 0.0016, which is less than the significance level of 0.05. Therefore, we reject the null hypothesis. This indicates that there is a significant difference in the 7-day retention rates between the gate_30 and gate_40 groups."
   ]
  },
  {
   "cell_type": "markdown",
   "id": "ae639f8603fa3da6",
   "metadata": {},
   "source": [
    "# Confidence Interval"
   ]
  },
  {
   "cell_type": "code",
   "execution_count": 14,
   "id": "83ed2368879e2c3c",
   "metadata": {
    "ExecuteTime": {
     "end_time": "2024-06-20T23:00:27.158213Z",
     "start_time": "2024-06-20T23:00:27.127621Z"
    }
   },
   "outputs": [
    {
     "data": {
      "text/html": [
       "<div>\n",
       "<style scoped>\n",
       "    .dataframe tbody tr th:only-of-type {\n",
       "        vertical-align: middle;\n",
       "    }\n",
       "\n",
       "    .dataframe tbody tr th {\n",
       "        vertical-align: top;\n",
       "    }\n",
       "\n",
       "    .dataframe thead th {\n",
       "        text-align: right;\n",
       "    }\n",
       "</style>\n",
       "<table border=\"1\" class=\"dataframe\">\n",
       "  <thead>\n",
       "    <tr style=\"text-align: right;\">\n",
       "      <th></th>\n",
       "      <th>version</th>\n",
       "      <th>retention_1</th>\n",
       "      <th>retention_7</th>\n",
       "      <th>sum_gamerounds</th>\n",
       "    </tr>\n",
       "  </thead>\n",
       "  <tbody>\n",
       "    <tr>\n",
       "      <th>0</th>\n",
       "      <td>gate_30</td>\n",
       "      <td>False</td>\n",
       "      <td>False</td>\n",
       "      <td>269963</td>\n",
       "    </tr>\n",
       "    <tr>\n",
       "      <th>1</th>\n",
       "      <td>gate_30</td>\n",
       "      <td>False</td>\n",
       "      <td>True</td>\n",
       "      <td>183388</td>\n",
       "    </tr>\n",
       "    <tr>\n",
       "      <th>2</th>\n",
       "      <td>gate_30</td>\n",
       "      <td>True</td>\n",
       "      <td>False</td>\n",
       "      <td>663819</td>\n",
       "    </tr>\n",
       "    <tr>\n",
       "      <th>3</th>\n",
       "      <td>gate_30</td>\n",
       "      <td>True</td>\n",
       "      <td>True</td>\n",
       "      <td>1227625</td>\n",
       "    </tr>\n",
       "    <tr>\n",
       "      <th>4</th>\n",
       "      <td>gate_40</td>\n",
       "      <td>False</td>\n",
       "      <td>False</td>\n",
       "      <td>281118</td>\n",
       "    </tr>\n",
       "    <tr>\n",
       "      <th>5</th>\n",
       "      <td>gate_40</td>\n",
       "      <td>False</td>\n",
       "      <td>True</td>\n",
       "      <td>133438</td>\n",
       "    </tr>\n",
       "    <tr>\n",
       "      <th>6</th>\n",
       "      <td>gate_40</td>\n",
       "      <td>True</td>\n",
       "      <td>False</td>\n",
       "      <td>680997</td>\n",
       "    </tr>\n",
       "    <tr>\n",
       "      <th>7</th>\n",
       "      <td>gate_40</td>\n",
       "      <td>True</td>\n",
       "      <td>True</td>\n",
       "      <td>1237977</td>\n",
       "    </tr>\n",
       "  </tbody>\n",
       "</table>\n",
       "</div>"
      ],
      "text/plain": [
       "   version  retention_1  retention_7  sum_gamerounds\n",
       "0  gate_30        False        False          269963\n",
       "1  gate_30        False         True          183388\n",
       "2  gate_30         True        False          663819\n",
       "3  gate_30         True         True         1227625\n",
       "4  gate_40        False        False          281118\n",
       "5  gate_40        False         True          133438\n",
       "6  gate_40         True        False          680997\n",
       "7  gate_40         True         True         1237977"
      ]
     },
     "execution_count": 14,
     "metadata": {},
     "output_type": "execute_result"
    }
   ],
   "source": [
    "# Group by gate and retention combinations\n",
    "grouped_combinations = df.groupby(['version', 'retention_1', 'retention_7']).agg({\n",
    "    'sum_gamerounds': 'sum'\n",
    "}).reset_index()\n",
    "\n",
    "grouped_combinations"
   ]
  },
  {
   "cell_type": "code",
   "execution_count": 15,
   "id": "a490ab2f051e4909",
   "metadata": {
    "ExecuteTime": {
     "end_time": "2024-06-20T23:00:27.632408Z",
     "start_time": "2024-06-20T23:00:27.574782Z"
    }
   },
   "outputs": [],
   "source": [
    "# Calculate total players in each group\n",
    "total_gate_30 = df[df['version'] == 'gate_30'].shape[0]\n",
    "total_gate_40 = df[df['version'] == 'gate_40'].shape[0]\n",
    "\n",
    "# Calculate retained players in each group\n",
    "retained_gate_30 = df[(df['version'] == 'gate_30') & (df['retention_7'] == True)].shape[0]\n",
    "retained_gate_40 = df[(df['version'] == 'gate_40') & (df['retention_7'] == True)].shape[0]\n",
    "\n",
    "# Calculate retention rates\n",
    "retention_rate_gate_30 = retained_gate_30 / total_gate_30\n",
    "retention_rate_gate_40 = retained_gate_40 / total_gate_40\n"
   ]
  },
  {
   "cell_type": "code",
   "execution_count": 16,
   "id": "b61759d4abe3be7a",
   "metadata": {
    "ExecuteTime": {
     "end_time": "2024-06-20T23:00:29.770292Z",
     "start_time": "2024-06-20T23:00:29.763245Z"
    }
   },
   "outputs": [
    {
     "data": {
      "text/plain": [
       "((0.18656304966751847, 0.1938396348962399),\n",
       " (0.17845423557808565, 0.1855458523552609))"
      ]
     },
     "execution_count": 16,
     "metadata": {},
     "output_type": "execute_result"
    }
   ],
   "source": [
    "# Constants\n",
    "z_score = 1.96  # for 95% confidence interval\n",
    "\n",
    "# Confidence interval for gate_30\n",
    "ci_30_lower = retention_rate_gate_30 - z_score * ((retention_rate_gate_30 * (1 - retention_rate_gate_30)) / total_gate_30) ** 0.5\n",
    "ci_30_upper = retention_rate_gate_30 + z_score * ((retention_rate_gate_30 * (1 - retention_rate_gate_30)) / total_gate_30) ** 0.5\n",
    "\n",
    "# Confidence interval for gate_40\n",
    "ci_40_lower = retention_rate_gate_40 - z_score * ((retention_rate_gate_40 * (1 - retention_rate_gate_40)) / total_gate_40) ** 0.5\n",
    "ci_40_upper = retention_rate_gate_40 + z_score * ((retention_rate_gate_40 * (1 - retention_rate_gate_40)) / total_gate_40) ** 0.5\n",
    "\n",
    "(ci_30_lower, ci_30_upper), (ci_40_lower, ci_40_upper)"
   ]
  },
  {
   "cell_type": "markdown",
   "id": "efd72c7cc0635a5c",
   "metadata": {},
   "source": [
    "The 7-day retention rate for gate_30 (18.66% - 19.38%) is higher than for gate_40 (17.85% - 18.55%), and this difference is statistically significant as per the Chi-squared test."
   ]
  },
  {
   "cell_type": "code",
   "execution_count": 17,
   "id": "4cc0fe0fcb859dca",
   "metadata": {
    "ExecuteTime": {
     "end_time": "2024-06-20T23:00:32.704928Z",
     "start_time": "2024-06-20T23:00:29.772731Z"
    }
   },
   "outputs": [
    {
     "data": {
      "text/plain": [
       "((0.18664429530201343, 0.19396085011185682),\n",
       " (0.1784816109389083, 0.18547451032117657))"
      ]
     },
     "execution_count": 17,
     "metadata": {},
     "output_type": "execute_result"
    }
   ],
   "source": [
    "# Function to perform bootstrap resampling and calculate confidence intervals\n",
    "def bootstrap_confidence_interval(data, num_bootstrap_samples=1000, confidence_level=0.95):\n",
    "    sample_size = len(data)\n",
    "    bootstrap_samples = np.random.choice(data, (num_bootstrap_samples, sample_size), replace=True)\n",
    "    bootstrap_means = np.mean(bootstrap_samples, axis=1)\n",
    "    lower_bound = np.percentile(bootstrap_means, (1 - confidence_level) / 2 * 100)\n",
    "    upper_bound = np.percentile(bootstrap_means, (1 + confidence_level) / 2 * 100)\n",
    "    return lower_bound, upper_bound\n",
    "\n",
    "# Separate data for gate_30 and gate_40 for 7-day retention\n",
    "retention_7_gate_30 = df[df['version'] == 'gate_30']['retention_7'].astype(int)\n",
    "retention_7_gate_40 = df[df['version'] == 'gate_40']['retention_7'].astype(int)\n",
    "\n",
    "# Calculate bootstrap confidence intervals for 7-day retention rates\n",
    "bootstrap_ci_30 = bootstrap_confidence_interval(retention_7_gate_30)\n",
    "bootstrap_ci_40 = bootstrap_confidence_interval(retention_7_gate_40)\n",
    "\n",
    "bootstrap_ci_30, bootstrap_ci_40"
   ]
  },
  {
   "cell_type": "markdown",
   "id": "74d2b3abb122a366",
   "metadata": {},
   "source": [
    "# Dashboard (Conclusion)"
   ]
  },
  {
   "cell_type": "code",
   "execution_count": 18,
   "id": "c6a8f2356eee7079",
   "metadata": {},
   "outputs": [
    {
     "data": {
      "image/png": "[encoded data removed]",
      "text/plain": [
       "<Figure size 1200x600 with 1 Axes>"
      ]
     },
     "metadata": {},
     "output_type": "display_data"
    }
   ],
   "source": [
    "# Visualize game rounds by retention status\n",
    "plt.figure(figsize=(12, 6))\n",
    "sns.boxplot(data=df, x='retention_1', y='sum_gamerounds', hue='version', palette=['#8056A7','#FAEDF0'])\n",
    "plt.title('Game Rounds by 1-Day Retention Status and Version')\n",
    "plt.xlabel('1-Day Retention')\n",
    "plt.ylabel('Total Game Rounds')\n",
    "plt.yscale('log')\n",
    "plt.legend(title='Version')\n",
    "plt.show()"
   ]
  },
  {
   "cell_type": "markdown",
   "id": "6d74cbef7494ede4",
   "metadata": {},
   "source": [
    "**1-day Retention**\n",
    "\n",
    "The p-value obtained for the 1-day retention rate is 0.0755, which is greater than the common significance level of 0.05. This indicates that there is no statistically significant difference in the 1-day retention rates between the gate_30 and gate_40 groups. In other words, changing the gate level does not appear to influence whether players return to the game the next day."
   ]
  },
  {
   "cell_type": "code",
   "execution_count": 19,
   "id": "c80e0cc90f2e9922",
   "metadata": {},
   "outputs": [
    {
     "data": {
      "image/png": "[encoded data removed]",
      "text/plain": [
       "<Figure size 1200x600 with 1 Axes>"
      ]
     },
     "metadata": {},
     "output_type": "display_data"
    }
   ],
   "source": [
    "plt.figure(figsize=(12, 6))\n",
    "sns.boxplot(data=df, x='retention_7', y='sum_gamerounds', hue='version', palette=['#8056A7','#FAEDF0'])\n",
    "plt.title('Game Rounds by 7-Day Retention Status and Version')\n",
    "plt.xlabel('7-Day Retention')\n",
    "plt.ylabel('Total Game Rounds')\n",
    "plt.yscale('log')\n",
    "plt.legend(title='Version')\n",
    "plt.show()"
   ]
  },
  {
   "cell_type": "markdown",
   "id": "131d563568caf3ee",
   "metadata": {},
   "source": [
    "**7-day Retention**\n",
    "\n",
    "The p-value for the 7-day retention rate is 0.0016, which is less than the significance level of 0.05. This suggests a significant difference in the 7-day retention rates between the two groups. Specifically, the retention rate for players who encountered the gate at level 30 is higher than for those who encountered it at level 40. The confidence intervals also support this finding, with gate_30 retention rates ranging from 18.66% to 19.38%, compared to 17.85% to 18.55% for gate_40.\n",
    "\n",
    "These results indicate that moving the first gate from level 30 to level 40 does not significantly improve short-term retention and might slightly reduce long-term retention."
   ]
  },
  {
   "cell_type": "code",
   "execution_count": 20,
   "id": "8a0cbb74d47cfbbe",
   "metadata": {},
   "outputs": [
    {
     "data": {
      "image/png": "[encoded data removed]",
      "text/plain": [
       "<Figure size 1000x600 with 2 Axes>"
      ]
     },
     "metadata": {},
     "output_type": "display_data"
    }
   ],
   "source": [
    "import matplotlib.pyplot as plt\n",
    "import seaborn as sns\n",
    "\n",
    "# Pivot the data for the heatmap\n",
    "heatmap_data = grouped_combinations.pivot_table(\n",
    "    index=['version', 'retention_1'],\n",
    "    columns='retention_7',\n",
    "    values='sum_gamerounds',\n",
    "    aggfunc='sum'\n",
    ").fillna(0)\n",
    "\n",
    "# Plot the heatmap\n",
    "plt.figure(figsize=(10, 6))\n",
    "sns.heatmap(heatmap_data, annot=True, fmt='g', cmap=['#FAEDF0', '#B3A0C6', '#8056A7', '#292C6D', '#1D1B60', '#0E0C56'])\n",
    "plt.title('Sum of Game Rounds by Retention Combinations and Version')\n",
    "plt.xlabel('Retention 7')\n",
    "plt.ylabel('Version and Retention 1')\n",
    "plt.show()"
   ]
  },
  {
   "cell_type": "markdown",
   "id": "3bc264dee5255fbc",
   "metadata": {},
   "source": [
    "1. The sum of game rounds is highest for users who retained at both 1 day and 7 days (True, True) across both versions.\n",
    "2. Users who did not retain at both 1 day and 7 days (False, False) have the lowest sum of game rounds.\n",
    "3. There is a significant drop in the sum of game rounds for users who retained on the first day but not on the seventh (True, False)"
   ]
  },
  {
   "cell_type": "markdown",
   "id": "2b86fad880e9f1a2",
   "metadata": {},
   "source": [
    "## Recommendations for Improvement"
   ]
  },
  {
   "cell_type": "markdown",
   "id": "1ff4774004edd89b",
   "metadata": {},
   "source": [
    "Further analysis to understand the reasons behind the lower 7-day retention rate for the gate_40 group. This could involve qualitative user feedback or additional quantitative metrics or in-game behavior analysis.\n",
    "\n",
    "Testing other gate levels (e.g., level 35) to find an optimal balance that might improve retention without causing the drop observed at level 40.\n",
    "\n",
    "Enhance player engagement and retention, such as introducing new content, offering incentives for returning players, or optimizing the difficulty curve around the gate levels.\n"
   ]
  }
 ],
 "metadata": {
  "kernelspec": {
   "display_name": "Python 3 (ipykernel)",
   "language": "python",
   "name": "python3"
  },
  "language_info": {
   "codemirror_mode": {
    "name": "ipython",
    "version": 3
   },
   "file_extension": ".py",
   "mimetype": "text/x-python",
   "name": "python",
   "nbconvert_exporter": "python",
   "pygments_lexer": "ipython3",
   "version": "3.12.4"
  }
 },
 "nbformat": 4,
 "nbformat_minor": 5
}
